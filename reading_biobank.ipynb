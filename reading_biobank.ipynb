{
 "cells": [
  {
   "cell_type": "markdown",
   "metadata": {},
   "source": [
    "<h3>Exploring biobank data</h3>\n",
    "<p>\n",
    "    This document aims to amswer the first Basic Questions:    \n",
    "    <ul style=\"list-style-type:circle\">\n",
    "      <li>How many samples are there?</li>\n",
    "      <li>How many serum?</li>\n",
    "      <li>What is the average age at sampling?</li>\n",
    "      <li>Are there more male DNA sample than expected by chance? (use Fisher’s exact)</li>\n",
    "    </ul>\n",
    "</p>"
   ]
  },
  {
   "cell_type": "code",
   "execution_count": 1,
   "metadata": {},
   "outputs": [],
   "source": [
    "import pandas as pd\n",
    "import numpy as np\n",
    "from scipy.stats import fisher_exact"
   ]
  },
  {
   "cell_type": "code",
   "execution_count": 2,
   "metadata": {},
   "outputs": [],
   "source": [
    "# load the tables\n",
    "data = pd.read_csv('data/sample_catalogue_rd_connect.csv')\n",
    "sex = pd.read_csv('data/rdconnect_Sex_2017-10-04_02-52-42.csv')\n",
    "disease = pd.read_csv('data/rdconnect_Disease_2017-10-04_02-59-41.csv')\n",
    "materialtype = pd.read_csv('data/rdconnect_MaterialType_2017-10-04_02-53-27.csv')\n",
    "anatomicalsite = pd.read_csv('data/rdconnect_AnatomicalSite_2017-10-04_02-56-42.csv')"
   ]
  },
  {
   "cell_type": "code",
   "execution_count": 3,
   "metadata": {},
   "outputs": [
    {
     "data": {
      "text/html": [
       "<div>\n",
       "<style>\n",
       "    .dataframe thead tr:only-child th {\n",
       "        text-align: right;\n",
       "    }\n",
       "\n",
       "    .dataframe thead th {\n",
       "        text-align: left;\n",
       "    }\n",
       "\n",
       "    .dataframe tbody tr th {\n",
       "        vertical-align: top;\n",
       "    }\n",
       "</style>\n",
       "<table border=\"1\" class=\"dataframe\">\n",
       "  <thead>\n",
       "    <tr style=\"text-align: right;\">\n",
       "      <th></th>\n",
       "      <th>IRI</th>\n",
       "      <th>PreferredTerm</th>\n",
       "      <th>Description</th>\n",
       "      <th>Code</th>\n",
       "    </tr>\n",
       "  </thead>\n",
       "  <tbody>\n",
       "    <tr>\n",
       "      <th>0</th>\n",
       "      <td>http://www.orpha.net/ORDO/Orphanet_1440</td>\n",
       "      <td>Ring chromosome 14</td>\n",
       "      <td>Ring chromosome 14</td>\n",
       "      <td>1440</td>\n",
       "    </tr>\n",
       "    <tr>\n",
       "      <th>1</th>\n",
       "      <td>http://identifiers.org/ncit/C49651</td>\n",
       "      <td>Healthy Subject</td>\n",
       "      <td>An individual who is or becomes a participant ...</td>\n",
       "      <td>C49651</td>\n",
       "    </tr>\n",
       "    <tr>\n",
       "      <th>2</th>\n",
       "      <td>urn:miriam:orphanet:Orphanet_802</td>\n",
       "      <td>Multiple sclerose</td>\n",
       "      <td>NaN</td>\n",
       "      <td>802</td>\n",
       "    </tr>\n",
       "    <tr>\n",
       "      <th>3</th>\n",
       "      <td>urn:miriam:orphanet:Orphanet_424925</td>\n",
       "      <td>Qualitative or quantitative defects of Torsin-...</td>\n",
       "      <td>NaN</td>\n",
       "      <td>424925</td>\n",
       "    </tr>\n",
       "    <tr>\n",
       "      <th>4</th>\n",
       "      <td>urn:miriam:orphanet:Orphanet_424933</td>\n",
       "      <td>Rare epithelial tumor of liver and intrahepati...</td>\n",
       "      <td>NaN</td>\n",
       "      <td>424933</td>\n",
       "    </tr>\n",
       "    <tr>\n",
       "      <th>5</th>\n",
       "      <td>urn:miriam:orphanet:Orphanet_424936</td>\n",
       "      <td>Carcinoma of liver and intrahepatic biliary tract</td>\n",
       "      <td>NaN</td>\n",
       "      <td>424936</td>\n",
       "    </tr>\n",
       "    <tr>\n",
       "      <th>6</th>\n",
       "      <td>urn:miriam:orphanet:Orphanet_424943</td>\n",
       "      <td>Adenocarcinoma of liver and intrahepatic bilia...</td>\n",
       "      <td>NaN</td>\n",
       "      <td>424943</td>\n",
       "    </tr>\n",
       "    <tr>\n",
       "      <th>7</th>\n",
       "      <td>urn:miriam:orphanet:Orphanet_424970</td>\n",
       "      <td>Undifferentiated carcinoma of liver and intrah...</td>\n",
       "      <td>NaN</td>\n",
       "      <td>424970</td>\n",
       "    </tr>\n",
       "    <tr>\n",
       "      <th>8</th>\n",
       "      <td>urn:miriam:orphanet:Orphanet_424975</td>\n",
       "      <td>Squamous cell carcinoma of liver and intrahepa...</td>\n",
       "      <td>NaN</td>\n",
       "      <td>424975</td>\n",
       "    </tr>\n",
       "    <tr>\n",
       "      <th>9</th>\n",
       "      <td>urn:miriam:orphanet:Orphanet_424982</td>\n",
       "      <td>Biliary cystadenocarcinoma</td>\n",
       "      <td>NaN</td>\n",
       "      <td>424982</td>\n",
       "    </tr>\n",
       "  </tbody>\n",
       "</table>\n",
       "</div>"
      ],
      "text/plain": [
       "                                       IRI  \\\n",
       "0  http://www.orpha.net/ORDO/Orphanet_1440   \n",
       "1       http://identifiers.org/ncit/C49651   \n",
       "2         urn:miriam:orphanet:Orphanet_802   \n",
       "3      urn:miriam:orphanet:Orphanet_424925   \n",
       "4      urn:miriam:orphanet:Orphanet_424933   \n",
       "5      urn:miriam:orphanet:Orphanet_424936   \n",
       "6      urn:miriam:orphanet:Orphanet_424943   \n",
       "7      urn:miriam:orphanet:Orphanet_424970   \n",
       "8      urn:miriam:orphanet:Orphanet_424975   \n",
       "9      urn:miriam:orphanet:Orphanet_424982   \n",
       "\n",
       "                                       PreferredTerm  \\\n",
       "0                                 Ring chromosome 14   \n",
       "1                                    Healthy Subject   \n",
       "2                                  Multiple sclerose   \n",
       "3  Qualitative or quantitative defects of Torsin-...   \n",
       "4  Rare epithelial tumor of liver and intrahepati...   \n",
       "5  Carcinoma of liver and intrahepatic biliary tract   \n",
       "6  Adenocarcinoma of liver and intrahepatic bilia...   \n",
       "7  Undifferentiated carcinoma of liver and intrah...   \n",
       "8  Squamous cell carcinoma of liver and intrahepa...   \n",
       "9                         Biliary cystadenocarcinoma   \n",
       "\n",
       "                                         Description    Code  \n",
       "0                                 Ring chromosome 14    1440  \n",
       "1  An individual who is or becomes a participant ...  C49651  \n",
       "2                                                NaN     802  \n",
       "3                                                NaN  424925  \n",
       "4                                                NaN  424933  \n",
       "5                                                NaN  424936  \n",
       "6                                                NaN  424943  \n",
       "7                                                NaN  424970  \n",
       "8                                                NaN  424975  \n",
       "9                                                NaN  424982  "
      ]
     },
     "execution_count": 3,
     "metadata": {},
     "output_type": "execute_result"
    }
   ],
   "source": [
    "disease.head(10)"
   ]
  },
  {
   "cell_type": "code",
   "execution_count": 4,
   "metadata": {},
   "outputs": [
    {
     "data": {
      "text/html": [
       "<div>\n",
       "<style>\n",
       "    .dataframe thead tr:only-child th {\n",
       "        text-align: right;\n",
       "    }\n",
       "\n",
       "    .dataframe thead th {\n",
       "        text-align: left;\n",
       "    }\n",
       "\n",
       "    .dataframe tbody tr th {\n",
       "        vertical-align: top;\n",
       "    }\n",
       "</style>\n",
       "<table border=\"1\" class=\"dataframe\">\n",
       "  <thead>\n",
       "    <tr style=\"text-align: right;\">\n",
       "      <th></th>\n",
       "      <th>Disease</th>\n",
       "      <th>MaterialType</th>\n",
       "      <th>MaterialTypeDetailed</th>\n",
       "      <th>AnatomicalSite</th>\n",
       "      <th>Sex</th>\n",
       "      <th>DiagnosisType</th>\n",
       "      <th>Genotype</th>\n",
       "      <th>AgeAtSampling</th>\n",
       "      <th>Affected</th>\n",
       "      <th>Family</th>\n",
       "      <th>RelatedSamples</th>\n",
       "      <th>Registry</th>\n",
       "      <th>BiobankID</th>\n",
       "      <th>RegistryID</th>\n",
       "    </tr>\n",
       "  </thead>\n",
       "  <tbody>\n",
       "    <tr>\n",
       "      <th>0</th>\n",
       "      <td>urn:miriam:ncit:C46951</td>\n",
       "      <td>SERUM</td>\n",
       "      <td>http://purl.obolibrary.org/obo/FMA_63083</td>\n",
       "      <td>http://purl.obolibrary.org/obo/UBERON_0000178</td>\n",
       "      <td>http://purl.obolibrary.org/obo/PATO_0000384</td>\n",
       "      <td>CLINICAL</td>\n",
       "      <td>FALSE</td>\n",
       "      <td>15.0</td>\n",
       "      <td>TRUE</td>\n",
       "      <td>UNK</td>\n",
       "      <td>NAV</td>\n",
       "      <td>UNK</td>\n",
       "      <td>87919</td>\n",
       "      <td>NaN</td>\n",
       "    </tr>\n",
       "    <tr>\n",
       "      <th>1</th>\n",
       "      <td>urn:miriam:ncit:C46951</td>\n",
       "      <td>SERUM</td>\n",
       "      <td>http://purl.obolibrary.org/obo/FMA_63083</td>\n",
       "      <td>http://purl.obolibrary.org/obo/UBERON_0000178</td>\n",
       "      <td>http://purl.obolibrary.org/obo/PATO_0000384</td>\n",
       "      <td>CLINICAL</td>\n",
       "      <td>FALSE</td>\n",
       "      <td>20.0</td>\n",
       "      <td>TRUE</td>\n",
       "      <td>UNK</td>\n",
       "      <td>NAV</td>\n",
       "      <td>UNK</td>\n",
       "      <td>87919</td>\n",
       "      <td>NaN</td>\n",
       "    </tr>\n",
       "    <tr>\n",
       "      <th>2</th>\n",
       "      <td>urn:miriam:orphanet:Orphanet_101075</td>\n",
       "      <td>OTHER</td>\n",
       "      <td>http://purl.obolibrary.org/obo/FMA_63877</td>\n",
       "      <td>http://purl.obolibrary.org/obo/UBERON_0002097</td>\n",
       "      <td>http://purl.obolibrary.org/obo/PATO_0000384</td>\n",
       "      <td>MOLECULAR</td>\n",
       "      <td>TRUE</td>\n",
       "      <td>26.0</td>\n",
       "      <td>TRUE</td>\n",
       "      <td>UNK</td>\n",
       "      <td>UNK</td>\n",
       "      <td>UNK</td>\n",
       "      <td>87919</td>\n",
       "      <td>NaN</td>\n",
       "    </tr>\n",
       "    <tr>\n",
       "      <th>3</th>\n",
       "      <td>urn:miriam:orphanet:Orphanet_101075</td>\n",
       "      <td>OTHER</td>\n",
       "      <td>http://purl.obolibrary.org/obo/FMA_63877</td>\n",
       "      <td>http://purl.obolibrary.org/obo/UBERON_0002097</td>\n",
       "      <td>http://purl.obolibrary.org/obo/PATO_0000384</td>\n",
       "      <td>MOLECULAR</td>\n",
       "      <td>TRUE</td>\n",
       "      <td>26.0</td>\n",
       "      <td>TRUE</td>\n",
       "      <td>UNK</td>\n",
       "      <td>UNK</td>\n",
       "      <td>UNK</td>\n",
       "      <td>87919</td>\n",
       "      <td>NaN</td>\n",
       "    </tr>\n",
       "    <tr>\n",
       "      <th>4</th>\n",
       "      <td>urn:miriam:orphanet:Orphanet_101081</td>\n",
       "      <td>SERUM</td>\n",
       "      <td>http://purl.obolibrary.org/obo/FMA_63083</td>\n",
       "      <td>http://purl.obolibrary.org/obo/UBERON_0000178</td>\n",
       "      <td>http://purl.obolibrary.org/obo/PATO_0000384</td>\n",
       "      <td>MOLECULAR</td>\n",
       "      <td>TRUE</td>\n",
       "      <td>19.0</td>\n",
       "      <td>TRUE</td>\n",
       "      <td>UNK</td>\n",
       "      <td>UNK</td>\n",
       "      <td>UNK</td>\n",
       "      <td>87919</td>\n",
       "      <td>NaN</td>\n",
       "    </tr>\n",
       "  </tbody>\n",
       "</table>\n",
       "</div>"
      ],
      "text/plain": [
       "                               Disease MaterialType  \\\n",
       "0               urn:miriam:ncit:C46951        SERUM   \n",
       "1               urn:miriam:ncit:C46951        SERUM   \n",
       "2  urn:miriam:orphanet:Orphanet_101075        OTHER   \n",
       "3  urn:miriam:orphanet:Orphanet_101075        OTHER   \n",
       "4  urn:miriam:orphanet:Orphanet_101081        SERUM   \n",
       "\n",
       "                       MaterialTypeDetailed  \\\n",
       "0  http://purl.obolibrary.org/obo/FMA_63083   \n",
       "1  http://purl.obolibrary.org/obo/FMA_63083   \n",
       "2  http://purl.obolibrary.org/obo/FMA_63877   \n",
       "3  http://purl.obolibrary.org/obo/FMA_63877   \n",
       "4  http://purl.obolibrary.org/obo/FMA_63083   \n",
       "\n",
       "                                  AnatomicalSite  \\\n",
       "0  http://purl.obolibrary.org/obo/UBERON_0000178   \n",
       "1  http://purl.obolibrary.org/obo/UBERON_0000178   \n",
       "2  http://purl.obolibrary.org/obo/UBERON_0002097   \n",
       "3  http://purl.obolibrary.org/obo/UBERON_0002097   \n",
       "4  http://purl.obolibrary.org/obo/UBERON_0000178   \n",
       "\n",
       "                                           Sex DiagnosisType Genotype  \\\n",
       "0  http://purl.obolibrary.org/obo/PATO_0000384      CLINICAL    FALSE   \n",
       "1  http://purl.obolibrary.org/obo/PATO_0000384      CLINICAL    FALSE   \n",
       "2  http://purl.obolibrary.org/obo/PATO_0000384     MOLECULAR     TRUE   \n",
       "3  http://purl.obolibrary.org/obo/PATO_0000384     MOLECULAR     TRUE   \n",
       "4  http://purl.obolibrary.org/obo/PATO_0000384     MOLECULAR     TRUE   \n",
       "\n",
       "   AgeAtSampling Affected Family RelatedSamples Registry  BiobankID  \\\n",
       "0           15.0     TRUE    UNK            NAV      UNK      87919   \n",
       "1           20.0     TRUE    UNK            NAV      UNK      87919   \n",
       "2           26.0     TRUE    UNK            UNK      UNK      87919   \n",
       "3           26.0     TRUE    UNK            UNK      UNK      87919   \n",
       "4           19.0     TRUE    UNK            UNK      UNK      87919   \n",
       "\n",
       "   RegistryID  \n",
       "0         NaN  \n",
       "1         NaN  \n",
       "2         NaN  \n",
       "3         NaN  \n",
       "4         NaN  "
      ]
     },
     "execution_count": 4,
     "metadata": {},
     "output_type": "execute_result"
    }
   ],
   "source": [
    "data.head()"
   ]
  },
  {
   "cell_type": "code",
   "execution_count": 5,
   "metadata": {},
   "outputs": [
    {
     "data": {
      "text/html": [
       "<div>\n",
       "<style>\n",
       "    .dataframe thead tr:only-child th {\n",
       "        text-align: right;\n",
       "    }\n",
       "\n",
       "    .dataframe thead th {\n",
       "        text-align: left;\n",
       "    }\n",
       "\n",
       "    .dataframe tbody tr th {\n",
       "        vertical-align: top;\n",
       "    }\n",
       "</style>\n",
       "<table border=\"1\" class=\"dataframe\">\n",
       "  <thead>\n",
       "    <tr style=\"text-align: right;\">\n",
       "      <th></th>\n",
       "      <th>IRI</th>\n",
       "      <th>Preferred term</th>\n",
       "      <th>Description</th>\n",
       "      <th>Code</th>\n",
       "    </tr>\n",
       "  </thead>\n",
       "  <tbody>\n",
       "    <tr>\n",
       "      <th>0</th>\n",
       "      <td>http://purl.obolibrary.org/obo/PATO_0000383</td>\n",
       "      <td>Female</td>\n",
       "      <td>Female</td>\n",
       "      <td>383</td>\n",
       "    </tr>\n",
       "    <tr>\n",
       "      <th>1</th>\n",
       "      <td>http://purl.obolibrary.org/obo/PATO_0000384</td>\n",
       "      <td>Male</td>\n",
       "      <td>Male</td>\n",
       "      <td>384</td>\n",
       "    </tr>\n",
       "    <tr>\n",
       "      <th>2</th>\n",
       "      <td>http://purl.obolibrary.org/obo/PATO_0001340</td>\n",
       "      <td>Ambiguous</td>\n",
       "      <td>A biological sex quality\\n  inhering in an org...</td>\n",
       "      <td>1340</td>\n",
       "    </tr>\n",
       "    <tr>\n",
       "      <th>3</th>\n",
       "      <td>https://github.com/MIABIS/miabis/wiki/Structur...</td>\n",
       "      <td>Unknown</td>\n",
       "      <td>A proper value is applicable but not known</td>\n",
       "      <td>0</td>\n",
       "    </tr>\n",
       "  </tbody>\n",
       "</table>\n",
       "</div>"
      ],
      "text/plain": [
       "                                                 IRI Preferred term  \\\n",
       "0        http://purl.obolibrary.org/obo/PATO_0000383         Female   \n",
       "1        http://purl.obolibrary.org/obo/PATO_0000384           Male   \n",
       "2        http://purl.obolibrary.org/obo/PATO_0001340      Ambiguous   \n",
       "3  https://github.com/MIABIS/miabis/wiki/Structur...        Unknown   \n",
       "\n",
       "                                         Description  Code  \n",
       "0                                             Female   383  \n",
       "1                                               Male   384  \n",
       "2  A biological sex quality\\n  inhering in an org...  1340  \n",
       "3         A proper value is applicable but not known     0  "
      ]
     },
     "execution_count": 5,
     "metadata": {},
     "output_type": "execute_result"
    }
   ],
   "source": [
    "sex.head()"
   ]
  },
  {
   "cell_type": "code",
   "execution_count": 5,
   "metadata": {},
   "outputs": [],
   "source": []
  },
  {
   "cell_type": "code",
   "execution_count": 7,
   "metadata": {},
   "outputs": [
    {
     "data": {
      "text/plain": [
       "'Male'"
      ]
     },
     "execution_count": 7,
     "metadata": {},
     "output_type": "execute_result"
    }
   ],
   "source": []
  },
  {
   "cell_type": "code",
   "execution_count": 8,
   "metadata": {},
   "outputs": [],
   "source": []
  },
  {
   "cell_type": "code",
   "execution_count": 79,
   "metadata": {},
   "outputs": [
    {
     "data": {
      "text/plain": [
       "Sex\n",
       "Female     2457\n",
       "Male       3850\n",
       "Unknown    1045\n",
       "Name: Genotype, dtype: int64"
      ]
     },
     "execution_count": 79,
     "metadata": {},
     "output_type": "execute_result"
    }
   ],
   "source": []
  },
  {
   "cell_type": "code",
   "execution_count": 80,
   "metadata": {},
   "outputs": [
    {
     "data": {
      "text/plain": [
       "Genotype\n",
       "FALSE    4178\n",
       "TRUE     2795\n",
       "UNK       379\n",
       "Name: Sex, dtype: int64"
      ]
     },
     "execution_count": 80,
     "metadata": {},
     "output_type": "execute_result"
    }
   ],
   "source": []
  },
  {
   "cell_type": "code",
   "execution_count": 72,
   "metadata": {
    "scrolled": true
   },
   "outputs": [
    {
     "data": {
      "text/plain": [
       "(1422, 14)"
      ]
     },
     "execution_count": 72,
     "metadata": {},
     "output_type": "execute_result"
    }
   ],
   "source": []
  },
  {
   "cell_type": "code",
   "execution_count": 49,
   "metadata": {},
   "outputs": [
    {
     "name": "stdout",
     "output_type": "stream",
     "text": [
      "Genotype  False  True \n",
      "Sex                   \n",
      "False      2533    969\n",
      "True       2024   1826\n"
     ]
    }
   ],
   "source": []
  },
  {
   "cell_type": "code",
   "execution_count": 17,
   "metadata": {},
   "outputs": [
    {
     "data": {
      "text/plain": [
       "(2.3583142639206711, 1.1059640270817867e-68)"
      ]
     },
     "execution_count": 17,
     "metadata": {},
     "output_type": "execute_result"
    }
   ],
   "source": []
  },
  {
   "cell_type": "code",
   "execution_count": 10,
   "metadata": {},
   "outputs": [
    {
     "name": "stdout",
     "output_type": "stream",
     "text": [
      "There are 7352 samples in total.\n"
     ]
    }
   ],
   "source": [
    "print \"There are %d samples in total.\"%data.shape[0]"
   ]
  },
  {
   "cell_type": "code",
   "execution_count": 21,
   "metadata": {},
   "outputs": [
    {
     "name": "stdout",
     "output_type": "stream",
     "text": [
      "There are 2148 serum in total.\n"
     ]
    }
   ],
   "source": [
    "print \"There are %d serum in total.\"%len(data[data.MaterialType=='SERUM'])"
   ]
  },
  {
   "cell_type": "code",
   "execution_count": 37,
   "metadata": {},
   "outputs": [
    {
     "name": "stdout",
     "output_type": "stream",
     "text": [
      "The average age for sampling is 38.\n"
     ]
    }
   ],
   "source": [
    "print \"The average age for sampling is %d.\"%data.AgeAtSampling.mean()"
   ]
  },
  {
   "cell_type": "code",
   "execution_count": 6,
   "metadata": {},
   "outputs": [
    {
     "name": "stdout",
     "output_type": "stream",
     "text": [
      "Genotype  False  True \n",
      "Sex                   \n",
      "False      2533    969\n",
      "True       2024   1826\n",
      "yes, there are more Male DNA samples than expected.\n"
     ]
    }
   ],
   "source": [
    "# whether there are more male DNA samples than expected?\n",
    "def convert_sex(sex_from_data):\n",
    "    return sex['Preferred term'][sex['IRI']==sex_from_data].values[0]\n",
    "data['Sex'] = data.Sex.apply(convert_sex)\n",
    "data.groupby(by='Sex').count().Genotype\n",
    "data.groupby(by='Genotype').count().Sex\n",
    "# data.loc[(data.Sex=='Female') & (data.Genotype=='FALSE')].shape\n",
    "# including Unknown Sex and UNK for DN samples ?\n",
    "tab = pd.crosstab(data.Sex=='Male',data.Genotype=='TRUE')\n",
    "print(tab)\n",
    "if fisher_exact(tab)[1] <0.05:\n",
    "    print(\"yes, there are more Male DNA samples than expected.\")\n",
    "else:\n",
    "    print(\"no, there are not more male DNA sample than expected.\")"
   ]
  },
  {
   "cell_type": "code",
   "execution_count": null,
   "metadata": {},
   "outputs": [],
   "source": []
  }
 ],
 "metadata": {
  "kernelspec": {
   "display_name": "jupyter_python3_ontology",
   "language": "python",
   "name": "jupyter_python3_ontology"
  },
  "language_info": {
   "codemirror_mode": {
    "name": "ipython",
    "version": 3
   },
   "file_extension": ".py",
   "mimetype": "text/x-python",
   "name": "python",
   "nbconvert_exporter": "python",
   "pygments_lexer": "ipython3",
   "version": "3.5.2"
  }
 },
 "nbformat": 4,
 "nbformat_minor": 2
}
